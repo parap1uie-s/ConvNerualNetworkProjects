{
 "cells": [
  {
   "cell_type": "code",
   "execution_count": 1,
   "metadata": {},
   "outputs": [
    {
     "name": "stderr",
     "output_type": "stream",
     "text": [
      "Using TensorFlow backend.\n"
     ]
    }
   ],
   "source": [
    "import keras.backend as K\n",
    "from net_utils import *\n",
    "from keras.models import Model,load_model\n",
    "K.set_learning_phase(0)"
   ]
  },
  {
   "cell_type": "code",
   "execution_count": 2,
   "metadata": {},
   "outputs": [],
   "source": [
    "X_train_img_orig, X_train_csr_orig, Y_train_orig, X_test_img_orig, X_test_csr_orig, Y_test_orig, = load_dataset_onehot()"
   ]
  },
  {
   "cell_type": "code",
   "execution_count": 3,
   "metadata": {},
   "outputs": [
    {
     "name": "stdout",
     "output_type": "stream",
     "text": [
      "number of training examples = 5000\n",
      "number of test examples = 1000\n",
      "Img_train shape: (5000, 224, 224, 3)\n",
      "CSR_train shape: (5000, 7, 1)\n",
      "Y_train shape: (5000, 1)\n",
      "Img_test shape: (1000, 224, 224, 3)\n",
      "CSR_test shape: (1000, 7, 1)\n",
      "Y_test shape: (1000, 1)\n"
     ]
    }
   ],
   "source": [
    "print (\"number of training examples = \" + str(X_train_img_orig.shape[0]))\n",
    "print (\"number of test examples = \" + str(X_test_img_orig.shape[0]))\n",
    "print (\"Img_train shape: \" + str(X_train_img_orig.shape))\n",
    "print (\"CSR_train shape: \" + str(X_train_csr_orig.shape))\n",
    "print (\"Y_train shape: \" + str(Y_train_orig.transpose().shape))\n",
    "\n",
    "print (\"Img_test shape: \" + str(X_test_img_orig.shape))\n",
    "print (\"CSR_test shape: \" + str(X_test_csr_orig.shape))\n",
    "print (\"Y_test shape: \" + str(Y_test_orig.transpose().shape))"
   ]
  },
  {
   "cell_type": "code",
   "execution_count": 4,
   "metadata": {},
   "outputs": [],
   "source": [
    "CTRModel = load_model('model.h5')"
   ]
  },
  {
   "cell_type": "code",
   "execution_count": 5,
   "metadata": {},
   "outputs": [
    {
     "name": "stdout",
     "output_type": "stream",
     "text": [
      "[[ 0.57559574]\n",
      " [ 0.51129854]\n",
      " [ 0.34004918]\n",
      " [ 0.52637464]\n",
      " [ 0.6012398 ]\n",
      " [ 0.51195842]\n",
      " [ 0.69084209]\n",
      " [ 0.70379514]\n",
      " [ 0.28378627]]\n",
      "[[0]\n",
      " [0]\n",
      " [1]\n",
      " [0]\n",
      " [1]\n",
      " [0]\n",
      " [0]\n",
      " [0]\n",
      " [1]]\n"
     ]
    }
   ],
   "source": [
    "M = Model(inputs=CTRModel.input, outputs=CTRModel.get_layer('Combnet_fc2').output)\n",
    "print(M.predict([X_test_img_orig[1:10], X_test_csr_orig[1:10]]))\n",
    "print(Y_test_orig.transpose()[1:10])"
   ]
  },
  {
   "cell_type": "code",
   "execution_count": null,
   "metadata": {},
   "outputs": [],
   "source": [
    "preds = CTRModel.evaluate([X_test_img_orig, X_test_csr_orig], Y_test_orig.transpose())\n",
    "print (\"Loss = \" + str(preds[0]))\n",
    "print (\"Test Accuracy = \" + str(preds[1]))"
   ]
  }
 ],
 "metadata": {
  "kernelspec": {
   "display_name": "Python 3",
   "language": "python",
   "name": "python3"
  },
  "language_info": {
   "codemirror_mode": {
    "name": "ipython",
    "version": 3
   },
   "file_extension": ".py",
   "mimetype": "text/x-python",
   "name": "python",
   "nbconvert_exporter": "python",
   "pygments_lexer": "ipython3",
   "version": "3.6.3"
  }
 },
 "nbformat": 4,
 "nbformat_minor": 2
}
