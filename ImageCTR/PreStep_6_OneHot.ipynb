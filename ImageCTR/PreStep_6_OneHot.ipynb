{
 "cells": [
  {
   "cell_type": "code",
   "execution_count": 1,
   "metadata": {},
   "outputs": [],
   "source": [
    "import csv\n",
    "import pandas as pd\n",
    "import matplotlib.image as mpimg\n",
    "import matplotlib.pyplot as plt\n",
    "import os\n",
    "import numpy as np\n",
    "import h5py\n",
    "from skimage import transform\n",
    "from matplotlib.pyplot import imshow\n",
    "from sklearn.preprocessing import OneHotEncoder\n",
    "\n",
    "from net_utils import *"
   ]
  },
  {
   "cell_type": "code",
   "execution_count": 2,
   "metadata": {},
   "outputs": [],
   "source": [
    "dataSrc = \"data/\"\n",
    "\n",
    "TrainH5 = h5py.File(dataSrc + \"train_onehot.h5\", \"w\")\n",
    "TestH5 = h5py.File(dataSrc + \"test_onehot.h5\", \"w\")"
   ]
  },
  {
   "cell_type": "code",
   "execution_count": 3,
   "metadata": {},
   "outputs": [],
   "source": [
    "X_train_img_orig, X_train_csr_orig, Y_train_orig, X_test_img_orig, X_test_csr_orig, Y_test_orig, = load_dataset()"
   ]
  },
  {
   "cell_type": "code",
   "execution_count": 4,
   "metadata": {},
   "outputs": [
    {
     "name": "stdout",
     "output_type": "stream",
     "text": [
      "CSR_train shape: (5000, 777, 1)\n",
      "CSR_test shape: (1000, 777, 1)\n"
     ]
    }
   ],
   "source": [
    "enc = OneHotEncoder()\n",
    "TempCSRMerge = np.append(X_train_csr_orig, X_test_csr_orig,axis=0).reshape([6000,7])\n",
    "TempCSRMerge.shape\n",
    "\n",
    "enc.fit(TempCSRMerge)\n",
    "X_train_csr = enc.transform(TempCSRMerge).toarray()[0:X_train_csr_orig.shape[0], :]\n",
    "X_test_csr = enc.transform(TempCSRMerge).toarray()[X_train_csr_orig.shape[0]:, :]\n",
    "\n",
    "X_train_csr = X_train_csr.reshape([X_train_csr.shape[0],X_train_csr.shape[1],1])\n",
    "X_test_csr = X_test_csr.reshape([X_test_csr.shape[0],X_test_csr.shape[1],1])\n",
    "\n",
    "print (\"CSR_train shape: \" + str(X_train_csr.shape))\n",
    "print (\"CSR_test shape: \" + str(X_test_csr.shape))\n"
   ]
  },
  {
   "cell_type": "code",
   "execution_count": 5,
   "metadata": {},
   "outputs": [],
   "source": [
    "totalTrainNum = X_train_img_orig.shape[0]\n",
    "img_size = 224\n",
    "img_channel = 3\n",
    "\n",
    "trainImage = np.zeros([totalTrainNum,img_size,img_size,img_channel])\n",
    "trainCsr = np.zeros([totalTrainNum,X_train_csr.shape[1],1])\n",
    "trainY = np.zeros([totalTrainNum,1])\n",
    "\n",
    "totalTestNum = X_test_img_orig.shape[0]\n",
    "testImage = np.zeros([totalTestNum,img_size,img_size,img_channel])\n",
    "testCsr = np.zeros([totalTestNum,X_test_csr.shape[1],1])\n",
    "testY = np.zeros([totalTestNum,1])"
   ]
  },
  {
   "cell_type": "code",
   "execution_count": 6,
   "metadata": {},
   "outputs": [
    {
     "data": {
      "text/plain": [
       "<HDF5 dataset \"test_set_y\": shape (1000, 1), type \"<i8\">"
      ]
     },
     "execution_count": 6,
     "metadata": {},
     "output_type": "execute_result"
    }
   ],
   "source": [
    "TrainH5.create_dataset('train_set_image', data=trainImage, dtype= \"float32\")\n",
    "TrainH5.create_dataset('train_set_csr', data=trainCsr, dtype = \"int32\")\n",
    "TrainH5.create_dataset('train_set_y', data=trainY, dtype= \"i8\")\n",
    "\n",
    "TestH5.create_dataset('test_set_image', data=testImage, dtype= \"float32\")\n",
    "TestH5.create_dataset('test_set_csr', data=testCsr, dtype = \"int32\")\n",
    "TestH5.create_dataset('test_set_y', data=testY, dtype= \"i8\")"
   ]
  },
  {
   "cell_type": "code",
   "execution_count": 7,
   "metadata": {},
   "outputs": [
    {
     "name": "stdout",
     "output_type": "stream",
     "text": [
      "0\n",
      "500\n",
      "1000\n",
      "1500\n",
      "2000\n",
      "2500\n",
      "3000\n",
      "3500\n",
      "4000\n",
      "4500\n"
     ]
    }
   ],
   "source": [
    "for index in range(X_train_img_orig.shape[0]):\n",
    "    TrainH5['train_set_image'][index] = X_train_img_orig[index,:]\n",
    "    TrainH5['train_set_y'][index] = int(Y_train_orig[0,index])\n",
    "    TrainH5['train_set_csr'][index] = X_train_csr[index,:]\n",
    "    if( index % 500 == 0 ):\n",
    "        print(index)"
   ]
  },
  {
   "cell_type": "code",
   "execution_count": 8,
   "metadata": {},
   "outputs": [
    {
     "name": "stdout",
     "output_type": "stream",
     "text": [
      "0\n",
      "500\n"
     ]
    }
   ],
   "source": [
    "for index in range(X_test_img_orig.shape[0]):\n",
    "    TestH5['test_set_image'][index] = X_test_img_orig[index,:]\n",
    "    TestH5['test_set_y'][index] = int(Y_test_orig[0,index])\n",
    "    TestH5['test_set_csr'][index] = X_test_csr[index,:]\n",
    "    if( index % 500 == 0 ):\n",
    "        print(index)"
   ]
  },
  {
   "cell_type": "code",
   "execution_count": 9,
   "metadata": {},
   "outputs": [],
   "source": [
    "TrainH5.close()\n",
    "TestH5.close()"
   ]
  },
  {
   "cell_type": "code",
   "execution_count": null,
   "metadata": {},
   "outputs": [],
   "source": [
    "X_train_img_orig, X_train_csr_orig, Y_train_orig, X_test_img_orig, X_test_csr_orig, Y_test_orig, = load_dataset_onehot()"
   ]
  },
  {
   "cell_type": "code",
   "execution_count": null,
   "metadata": {},
   "outputs": [],
   "source": [
    "print (\"number of training examples = \" + str(X_train_img_orig.shape[0]))\n",
    "print (\"number of test examples = \" + str(X_test_img_orig.shape[0]))\n",
    "print (\"Img_train shape: \" + str(X_train_img_orig.shape))\n",
    "print (\"CSR_train shape: \" + str(X_train_csr_orig.shape))\n",
    "print (\"Y_train shape: \" + str(Y_train_orig.transpose().shape))\n",
    "\n",
    "print (\"Img_test shape: \" + str(X_test_img_orig.shape))\n",
    "print (\"CSR_test shape: \" + str(X_test_csr_orig.shape))\n",
    "print (\"Y_test shape: \" + str(Y_test_orig.transpose().shape))"
   ]
  },
  {
   "cell_type": "code",
   "execution_count": null,
   "metadata": {},
   "outputs": [],
   "source": []
  }
 ],
 "metadata": {
  "kernelspec": {
   "display_name": "Python 3",
   "language": "python",
   "name": "python3"
  },
  "language_info": {
   "codemirror_mode": {
    "name": "ipython",
    "version": 3
   },
   "file_extension": ".py",
   "mimetype": "text/x-python",
   "name": "python",
   "nbconvert_exporter": "python",
   "pygments_lexer": "ipython3",
   "version": "3.6.3"
  }
 },
 "nbformat": 4,
 "nbformat_minor": 2
}
