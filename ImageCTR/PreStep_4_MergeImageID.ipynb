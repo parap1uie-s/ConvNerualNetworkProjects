{
 "cells": [
  {
   "cell_type": "code",
   "execution_count": 1,
   "metadata": {},
   "outputs": [],
   "source": [
    "import csv\n",
    "import pandas as pd\n",
    "import numpy as np\n",
    "import os\n",
    "from sklearn.utils import shuffle  \n",
    "dataSrc = \"data/\"\n",
    "imageSrc = \"data/ImageData/\"\n",
    "\n",
    "trainCSV = dataSrc + \"train.csv\"\n",
    "testCSV = dataSrc + \"test.csv\"\n",
    "\n",
    "destTrain = dataSrc + \"train_image.csv\"\n",
    "destTest = dataSrc + \"test_image.csv\""
   ]
  },
  {
   "cell_type": "code",
   "execution_count": 2,
   "metadata": {},
   "outputs": [],
   "source": [
    "trainData = pd.read_csv(trainCSV,header=\"infer\",sep=',')\n",
    "testData = pd.read_csv(testCSV,header=\"infer\",sep=',')"
   ]
  },
  {
   "cell_type": "code",
   "execution_count": 3,
   "metadata": {},
   "outputs": [],
   "source": [
    "TrueList=[]   \n",
    "for root, dirs, files in os.walk(imageSrc + \"True/\"):  \n",
    "    for file in files:  \n",
    "        if os.path.splitext(file)[1] == '.jpg':  \n",
    "            TrueList.append(os.path.splitext(file)[0])\n",
    "            \n",
    "FalseList=[]   \n",
    "for root, dirs, files in os.walk(imageSrc + \"False/\"):  \n",
    "    for file in files:  \n",
    "        if os.path.splitext(file)[1] == '.jpg':  \n",
    "            FalseList.append(os.path.splitext(file)[0])\n",
    "TrueList = pd.core.frame.DataFrame(TrueList, columns=['image'])\n",
    "FalseList = pd.core.frame.DataFrame(FalseList, columns=['image'])"
   ]
  },
  {
   "cell_type": "code",
   "execution_count": 4,
   "metadata": {},
   "outputs": [
    {
     "data": {
      "text/plain": [
       "Unnamed: 0        1663\n",
       "label             1663\n",
       "age               1663\n",
       "gender            1663\n",
       "education         1663\n",
       "marriageStatus    1663\n",
       "haveBaby          1663\n",
       "hometown          1663\n",
       "residence         1663\n",
       "dtype: int64"
      ]
     },
     "execution_count": 4,
     "metadata": {},
     "output_type": "execute_result"
    }
   ],
   "source": [
    "trainData[trainData['label'] == 1].count()"
   ]
  },
  {
   "cell_type": "code",
   "execution_count": 5,
   "metadata": {},
   "outputs": [
    {
     "data": {
      "text/plain": [
       "Unnamed: 0        337\n",
       "label             337\n",
       "age               337\n",
       "gender            337\n",
       "education         337\n",
       "marriageStatus    337\n",
       "haveBaby          337\n",
       "hometown          337\n",
       "residence         337\n",
       "dtype: int64"
      ]
     },
     "execution_count": 5,
     "metadata": {},
     "output_type": "execute_result"
    }
   ],
   "source": [
    "testData[testData['label'] == 1].count()"
   ]
  },
  {
   "cell_type": "code",
   "execution_count": 6,
   "metadata": {},
   "outputs": [
    {
     "data": {
      "text/plain": [
       "Unnamed: 0        3337\n",
       "label             3337\n",
       "age               3337\n",
       "gender            3337\n",
       "education         3337\n",
       "marriageStatus    3337\n",
       "haveBaby          3337\n",
       "hometown          3337\n",
       "residence         3337\n",
       "dtype: int64"
      ]
     },
     "execution_count": 6,
     "metadata": {},
     "output_type": "execute_result"
    }
   ],
   "source": [
    "trainData[trainData['label'] == 0].count()"
   ]
  },
  {
   "cell_type": "code",
   "execution_count": 7,
   "metadata": {},
   "outputs": [],
   "source": [
    "tempTrainY = trainData[trainData['label'] == 1].reset_index().drop(columns=['index', 'Unnamed: 0'])\n",
    "tempTrainY = tempTrainY.merge(TrueList,left_index = True, right_index = True, how = 'left')\n",
    "\n",
    "tempTestY = testData[testData['label'] == 1].reset_index().drop(columns=['index', 'Unnamed: 0'])\n",
    "tempTestY = tempTestY.merge(TrueList[1663:].reset_index(),left_index = True, right_index = True, how = 'left')\n",
    "\n",
    "tempTrainN = trainData[trainData['label'] == 0].reset_index().drop(columns=['index', 'Unnamed: 0'])\n",
    "tempTrainN = tempTrainN.merge(FalseList,left_index = True, right_index = True, how = 'left')\n",
    "\n",
    "tempTestN = testData[testData['label'] == 0].reset_index().drop(columns=['index', 'Unnamed: 0'])\n",
    "tempTestN = tempTestN.merge(FalseList[3337:].reset_index(),left_index = True, right_index = True, how = 'left')\n",
    "\n"
   ]
  },
  {
   "cell_type": "code",
   "execution_count": 8,
   "metadata": {},
   "outputs": [],
   "source": [
    "trainData = shuffle(pd.concat([tempTrainY,tempTrainN])).reset_index().drop(columns=['index'])\n",
    "testData = shuffle(pd.concat([tempTestY,tempTestN])).reset_index().drop(columns=['index','level_0'])"
   ]
  },
  {
   "cell_type": "code",
   "execution_count": 9,
   "metadata": {},
   "outputs": [
    {
     "data": {
      "text/html": [
       "<div>\n",
       "<style scoped>\n",
       "    .dataframe tbody tr th:only-of-type {\n",
       "        vertical-align: middle;\n",
       "    }\n",
       "\n",
       "    .dataframe tbody tr th {\n",
       "        vertical-align: top;\n",
       "    }\n",
       "\n",
       "    .dataframe thead th {\n",
       "        text-align: right;\n",
       "    }\n",
       "</style>\n",
       "<table border=\"1\" class=\"dataframe\">\n",
       "  <thead>\n",
       "    <tr style=\"text-align: right;\">\n",
       "      <th></th>\n",
       "      <th>label</th>\n",
       "      <th>age</th>\n",
       "      <th>gender</th>\n",
       "      <th>education</th>\n",
       "      <th>marriageStatus</th>\n",
       "      <th>haveBaby</th>\n",
       "      <th>hometown</th>\n",
       "      <th>residence</th>\n",
       "      <th>image</th>\n",
       "    </tr>\n",
       "  </thead>\n",
       "  <tbody>\n",
       "    <tr>\n",
       "      <th>0</th>\n",
       "      <td>0</td>\n",
       "      <td>17</td>\n",
       "      <td>2</td>\n",
       "      <td>3</td>\n",
       "      <td>2</td>\n",
       "      <td>0</td>\n",
       "      <td>910</td>\n",
       "      <td>910</td>\n",
       "      <td>2315361763,1473038887</td>\n",
       "    </tr>\n",
       "    <tr>\n",
       "      <th>1</th>\n",
       "      <td>0</td>\n",
       "      <td>10</td>\n",
       "      <td>2</td>\n",
       "      <td>4</td>\n",
       "      <td>0</td>\n",
       "      <td>0</td>\n",
       "      <td>504</td>\n",
       "      <td>504</td>\n",
       "      <td>267572243,1880542342</td>\n",
       "    </tr>\n",
       "    <tr>\n",
       "      <th>2</th>\n",
       "      <td>0</td>\n",
       "      <td>11</td>\n",
       "      <td>2</td>\n",
       "      <td>4</td>\n",
       "      <td>0</td>\n",
       "      <td>1</td>\n",
       "      <td>2005</td>\n",
       "      <td>2005</td>\n",
       "      <td>142919853,1577516793</td>\n",
       "    </tr>\n",
       "    <tr>\n",
       "      <th>3</th>\n",
       "      <td>1</td>\n",
       "      <td>11</td>\n",
       "      <td>2</td>\n",
       "      <td>4</td>\n",
       "      <td>2</td>\n",
       "      <td>1</td>\n",
       "      <td>0</td>\n",
       "      <td>1704</td>\n",
       "      <td>005u7RWwly1fk4wka3g5qj31kw2d74jl</td>\n",
       "    </tr>\n",
       "    <tr>\n",
       "      <th>4</th>\n",
       "      <td>0</td>\n",
       "      <td>34</td>\n",
       "      <td>2</td>\n",
       "      <td>2</td>\n",
       "      <td>2</td>\n",
       "      <td>1</td>\n",
       "      <td>307</td>\n",
       "      <td>308</td>\n",
       "      <td>2089634955,955397464</td>\n",
       "    </tr>\n",
       "  </tbody>\n",
       "</table>\n",
       "</div>"
      ],
      "text/plain": [
       "   label  age  gender  education  marriageStatus  haveBaby  hometown  \\\n",
       "0      0   17       2          3               2         0       910   \n",
       "1      0   10       2          4               0         0       504   \n",
       "2      0   11       2          4               0         1      2005   \n",
       "3      1   11       2          4               2         1         0   \n",
       "4      0   34       2          2               2         1       307   \n",
       "\n",
       "   residence                             image  \n",
       "0        910             2315361763,1473038887  \n",
       "1        504              267572243,1880542342  \n",
       "2       2005              142919853,1577516793  \n",
       "3       1704  005u7RWwly1fk4wka3g5qj31kw2d74jl  \n",
       "4        308              2089634955,955397464  "
      ]
     },
     "execution_count": 9,
     "metadata": {},
     "output_type": "execute_result"
    }
   ],
   "source": [
    "trainData.head()"
   ]
  },
  {
   "cell_type": "code",
   "execution_count": 10,
   "metadata": {},
   "outputs": [
    {
     "data": {
      "text/html": [
       "<div>\n",
       "<style scoped>\n",
       "    .dataframe tbody tr th:only-of-type {\n",
       "        vertical-align: middle;\n",
       "    }\n",
       "\n",
       "    .dataframe tbody tr th {\n",
       "        vertical-align: top;\n",
       "    }\n",
       "\n",
       "    .dataframe thead th {\n",
       "        text-align: right;\n",
       "    }\n",
       "</style>\n",
       "<table border=\"1\" class=\"dataframe\">\n",
       "  <thead>\n",
       "    <tr style=\"text-align: right;\">\n",
       "      <th></th>\n",
       "      <th>label</th>\n",
       "      <th>age</th>\n",
       "      <th>gender</th>\n",
       "      <th>education</th>\n",
       "      <th>marriageStatus</th>\n",
       "      <th>haveBaby</th>\n",
       "      <th>hometown</th>\n",
       "      <th>residence</th>\n",
       "      <th>image</th>\n",
       "    </tr>\n",
       "  </thead>\n",
       "  <tbody>\n",
       "    <tr>\n",
       "      <th>0</th>\n",
       "      <td>0</td>\n",
       "      <td>0</td>\n",
       "      <td>0</td>\n",
       "      <td>0</td>\n",
       "      <td>0</td>\n",
       "      <td>0</td>\n",
       "      <td>0</td>\n",
       "      <td>1006</td>\n",
       "      <td>992489092,3784984952</td>\n",
       "    </tr>\n",
       "    <tr>\n",
       "      <th>1</th>\n",
       "      <td>0</td>\n",
       "      <td>14</td>\n",
       "      <td>2</td>\n",
       "      <td>1</td>\n",
       "      <td>0</td>\n",
       "      <td>0</td>\n",
       "      <td>809</td>\n",
       "      <td>805</td>\n",
       "      <td>715016073,3290148129</td>\n",
       "    </tr>\n",
       "    <tr>\n",
       "      <th>2</th>\n",
       "      <td>0</td>\n",
       "      <td>26</td>\n",
       "      <td>1</td>\n",
       "      <td>2</td>\n",
       "      <td>1</td>\n",
       "      <td>0</td>\n",
       "      <td>0</td>\n",
       "      <td>1606</td>\n",
       "      <td>52918288,310360213</td>\n",
       "    </tr>\n",
       "    <tr>\n",
       "      <th>3</th>\n",
       "      <td>1</td>\n",
       "      <td>13</td>\n",
       "      <td>1</td>\n",
       "      <td>0</td>\n",
       "      <td>0</td>\n",
       "      <td>0</td>\n",
       "      <td>0</td>\n",
       "      <td>601</td>\n",
       "      <td>a2c9d1e5ly1fl854wp2i2j20m80vlacu</td>\n",
       "    </tr>\n",
       "    <tr>\n",
       "      <th>4</th>\n",
       "      <td>0</td>\n",
       "      <td>0</td>\n",
       "      <td>0</td>\n",
       "      <td>0</td>\n",
       "      <td>2</td>\n",
       "      <td>0</td>\n",
       "      <td>0</td>\n",
       "      <td>307</td>\n",
       "      <td>674752037,3421601606</td>\n",
       "    </tr>\n",
       "  </tbody>\n",
       "</table>\n",
       "</div>"
      ],
      "text/plain": [
       "   label  age  gender  education  marriageStatus  haveBaby  hometown  \\\n",
       "0      0    0       0          0               0         0         0   \n",
       "1      0   14       2          1               0         0       809   \n",
       "2      0   26       1          2               1         0         0   \n",
       "3      1   13       1          0               0         0         0   \n",
       "4      0    0       0          0               2         0         0   \n",
       "\n",
       "   residence                             image  \n",
       "0       1006              992489092,3784984952  \n",
       "1        805              715016073,3290148129  \n",
       "2       1606                52918288,310360213  \n",
       "3        601  a2c9d1e5ly1fl854wp2i2j20m80vlacu  \n",
       "4        307              674752037,3421601606  "
      ]
     },
     "execution_count": 10,
     "metadata": {},
     "output_type": "execute_result"
    }
   ],
   "source": [
    "testData.head()"
   ]
  },
  {
   "cell_type": "code",
   "execution_count": 11,
   "metadata": {},
   "outputs": [],
   "source": [
    "trainData.to_csv(destTrain)\n",
    "testData.to_csv(destTest)"
   ]
  },
  {
   "cell_type": "code",
   "execution_count": null,
   "metadata": {},
   "outputs": [],
   "source": []
  }
 ],
 "metadata": {
  "kernelspec": {
   "display_name": "Python 3",
   "language": "python",
   "name": "python3"
  },
  "language_info": {
   "codemirror_mode": {
    "name": "ipython",
    "version": 3
   },
   "file_extension": ".py",
   "mimetype": "text/x-python",
   "name": "python",
   "nbconvert_exporter": "python",
   "pygments_lexer": "ipython3",
   "version": "3.6.3"
  }
 },
 "nbformat": 4,
 "nbformat_minor": 2
}
